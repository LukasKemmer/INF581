{
 "cells": [
  {
   "cell_type": "code",
   "execution_count": null,
   "metadata": {
    "collapsed": true
   },
   "outputs": [],
   "source": [
    "import numpy as np\n",
    "def Demand(t,n_stores):\n",
    "    dem = np.zeros(n_stores)\n",
    "    for i in range(n_stores):\n",
    "        dem[i] = 30 * np.sin(2*np.pi*t/365 + i) + 30\n",
    "    return dem"
   ]
  },
  {
   "cell_type": "code",
   "execution_count": null,
   "metadata": {
    "collapsed": true
   },
   "outputs": [],
   "source": [
    "def action_space():\n",
    "    return "
   ]
  },
  {
   "cell_type": "code",
   "execution_count": null,
   "metadata": {
    "collapsed": true
   },
   "outputs": [],
   "source": [
    "def observation_space():\n",
    "    "
   ]
  },
  {
   "cell_type": "code",
   "execution_count": null,
   "metadata": {
    "collapsed": true
   },
   "outputs": [],
   "source": [
    "# define parameters:\n",
    "n_stores = 5\n",
    "# capacity\n",
    "cap_store = np.ones(n_stores+1)\n",
    "cap_store = c_store *25 \n",
    "cap_store[0] = 500\n",
    "cap_truck = 100\n",
    "# costs:\n",
    "prod_cost = 1\n",
    "store_cost = np.ones(n_stores+1)* 0.1  \n",
    "store_cost[0] = 0.01\n",
    "truck_cost = np.ones(n_stores) * 5  # should be made individual\n",
    "penalty_cost = 0.3\n",
    "price = 2"
   ]
  },
  {
   "cell_type": "code",
   "execution_count": null,
   "metadata": {
    "collapsed": true
   },
   "outputs": [],
   "source": [
    "def reset(): # create starting observation\n",
    "    s = np.zeros(n_stores+1)\n",
    "    s[0] = cap_store[0]/2  # start with center half full\n",
    "    demand = np.zeros(n_stores)\n",
    "    return s\n",
    "    "
   ]
  },
  {
   "cell_type": "code",
   "execution_count": null,
   "metadata": {
    "collapsed": true
   },
   "outputs": [],
   "source": [
    "def step(action):\n",
    "    # define new state\n",
    "    s[0] =  np.min(s[0] + action[0] - sum(action[1:])  , cap_store[0])\n",
    "    s[1:] = np.minimum(s[1:] - demand + action[1:], cap_store[1:])\n",
    "    \n",
    "    reward = sum(demand) * price - action[0] * prod_cost - np.maximum(np.zeros(len(s)), s).T * store_cost \\\n",
    "    - np.minimum(np.zeros(len(s)), s).T * (penalty_cost*np.ones(len(s))) -  np.ceil(action/cap_truck).T * (truck_cost*np.ones(len(action))\n",
    "    t = t+1 # time passes\n",
    "    demand = Demand(t)        \n",
    "    # done = \n",
    "    # info = \n",
    "    return s, reward, done, info"
   ]
  },
  {
   "cell_type": "code",
   "execution_count": null,
   "metadata": {
    "collapsed": true
   },
   "outputs": [],
   "source": []
  }
 ],
 "metadata": {
  "kernelspec": {
   "display_name": "Python 3",
   "language": "python",
   "name": "python3"
  },
  "language_info": {
   "codemirror_mode": {
    "name": "ipython",
    "version": 3
   },
   "file_extension": ".py",
   "mimetype": "text/x-python",
   "name": "python",
   "nbconvert_exporter": "python",
   "pygments_lexer": "ipython3",
   "version": "3.6.1"
  }
 },
 "nbformat": 4,
 "nbformat_minor": 2
}
